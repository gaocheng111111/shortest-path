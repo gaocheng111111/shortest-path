{
 "cells": [
  {
   "cell_type": "code",
   "execution_count": 1,
   "metadata": {},
   "outputs": [],
   "source": [
    "#import libraries\n",
    "import pandas as pd\n",
    "import numpy as np\n",
    "import random as rd\n",
    "import matplotlib.pyplot as plt"
   ]
  },
  {
   "cell_type": "code",
   "execution_count": 2,
   "metadata": {
    "scrolled": true
   },
   "outputs": [
    {
     "data": {
      "text/html": [
       "<div>\n",
       "<style scoped>\n",
       "    .dataframe tbody tr th:only-of-type {\n",
       "        vertical-align: middle;\n",
       "    }\n",
       "\n",
       "    .dataframe tbody tr th {\n",
       "        vertical-align: top;\n",
       "    }\n",
       "\n",
       "    .dataframe thead th {\n",
       "        text-align: right;\n",
       "    }\n",
       "</style>\n",
       "<table border=\"1\" class=\"dataframe\">\n",
       "  <thead>\n",
       "    <tr style=\"text-align: right;\">\n",
       "      <th></th>\n",
       "      <th>ladefense</th>\n",
       "      <th>Building</th>\n",
       "      <th>longitude</th>\n",
       "      <th>latitude</th>\n",
       "      <th>Location</th>\n",
       "      <th>Surface area(m²)</th>\n",
       "      <th>Offices(m²)</th>\n",
       "      <th>Shops(m²)</th>\n",
       "      <th>height</th>\n",
       "      <th>function</th>\n",
       "      <th>Delivery</th>\n",
       "      <th>zone</th>\n",
       "      <th>node</th>\n",
       "    </tr>\n",
       "  </thead>\n",
       "  <tbody>\n",
       "    <tr>\n",
       "      <th>0</th>\n",
       "      <td>NaN</td>\n",
       "      <td>Europe</td>\n",
       "      <td>48.891102</td>\n",
       "      <td>2.245964</td>\n",
       "      <td>33, Place des Corolles - 92400 Courbevoie</td>\n",
       "      <td>30161</td>\n",
       "      <td>27691</td>\n",
       "      <td>2470</td>\n",
       "      <td>110</td>\n",
       "      <td>Office</td>\n",
       "      <td>2011</td>\n",
       "      <td>Place des Corolles</td>\n",
       "      <td>esplande nord</td>\n",
       "    </tr>\n",
       "    <tr>\n",
       "      <th>1</th>\n",
       "      <td>NaN</td>\n",
       "      <td>Aurore</td>\n",
       "      <td>48.890146</td>\n",
       "      <td>2.247346</td>\n",
       "      <td>18, Place des Reflets - 92 400 Courbevoie</td>\n",
       "      <td>38 855</td>\n",
       "      <td>32779</td>\n",
       "      <td>1 595</td>\n",
       "      <td>100</td>\n",
       "      <td>Office</td>\n",
       "      <td>1970</td>\n",
       "      <td>Place des Reflets</td>\n",
       "      <td>esplande nord</td>\n",
       "    </tr>\n",
       "    <tr>\n",
       "      <th>2</th>\n",
       "      <td>NaN</td>\n",
       "      <td>Saint Gobain</td>\n",
       "      <td>48.889490</td>\n",
       "      <td>2.249256</td>\n",
       "      <td>La Défense / North Esplanade / Iris</td>\n",
       "      <td>48 948</td>\n",
       "      <td>NaN</td>\n",
       "      <td>NaN</td>\n",
       "      <td>165</td>\n",
       "      <td>Office</td>\n",
       "      <td>2020</td>\n",
       "      <td>Place de lIris</td>\n",
       "      <td>esplande nord</td>\n",
       "    </tr>\n",
       "    <tr>\n",
       "      <th>3</th>\n",
       "      <td>NaN</td>\n",
       "      <td>CB21</td>\n",
       "      <td>48.888875</td>\n",
       "      <td>2.249909</td>\n",
       "      <td>Esplanade Nord, quartier Iris (Courbevoie)</td>\n",
       "      <td>78 000</td>\n",
       "      <td>NaN</td>\n",
       "      <td>NaN</td>\n",
       "      <td>188</td>\n",
       "      <td>Office</td>\n",
       "      <td>2021</td>\n",
       "      <td>Place de lIris</td>\n",
       "      <td>esplande nord</td>\n",
       "    </tr>\n",
       "    <tr>\n",
       "      <th>4</th>\n",
       "      <td>NaN</td>\n",
       "      <td>D2</td>\n",
       "      <td>48.890514</td>\n",
       "      <td>2.247880</td>\n",
       "      <td>17 bis Place des Reflets - 924</td>\n",
       "      <td>54530</td>\n",
       "      <td>49000</td>\n",
       "      <td>NaN</td>\n",
       "      <td>175</td>\n",
       "      <td>Office</td>\n",
       "      <td>2015</td>\n",
       "      <td>Place des Reflets</td>\n",
       "      <td>esplande nord</td>\n",
       "    </tr>\n",
       "  </tbody>\n",
       "</table>\n",
       "</div>"
      ],
      "text/plain": [
       "   ladefense      Building  longitude  latitude  \\\n",
       "0        NaN        Europe  48.891102  2.245964   \n",
       "1        NaN        Aurore  48.890146  2.247346   \n",
       "2        NaN  Saint Gobain  48.889490  2.249256   \n",
       "3        NaN          CB21  48.888875  2.249909   \n",
       "4        NaN            D2  48.890514  2.247880   \n",
       "\n",
       "                                     Location Surface area(m²) Offices(m²)  \\\n",
       "0   33, Place des Corolles - 92400 Courbevoie            30161       27691   \n",
       "1   18, Place des Reflets - 92 400 Courbevoie           38 855       32779   \n",
       "2         La Défense / North Esplanade / Iris           48 948         NaN   \n",
       "3  Esplanade Nord, quartier Iris (Courbevoie)          78 000          NaN   \n",
       "4              17 bis Place des Reflets - 924            54530       49000   \n",
       "\n",
       "  Shops(m²)  height function  Delivery                zone           node  \n",
       "0      2470     110   Office      2011  Place des Corolles  esplande nord  \n",
       "1     1 595     100   Office      1970   Place des Reflets  esplande nord  \n",
       "2       NaN     165   Office      2020      Place de lIris  esplande nord  \n",
       "3       NaN     188   Office      2021      Place de lIris  esplande nord  \n",
       "4       NaN     175   Office      2015   Place des Reflets  esplande nord  "
      ]
     },
     "execution_count": 2,
     "metadata": {},
     "output_type": "execute_result"
    }
   ],
   "source": [
    "data = pd.read_csv('ladefensebuilding.csv')\n",
    "data.head()"
   ]
  },
  {
   "cell_type": "code",
   "execution_count": 3,
   "metadata": {},
   "outputs": [
    {
     "data": {
      "image/png": "[encoded data removed]",
      "text/plain": [
       "<Figure size 432x288 with 1 Axes>"
      ]
     },
     "metadata": {
      "needs_background": "light"
     },
     "output_type": "display_data"
    }
   ],
   "source": [
    "X = data[[\"longitude\",\"latitude\"]]\n",
    "#Visualise data points\n",
    "plt.scatter(X[\"latitude\"],X[\"longitude\"],c='black')\n",
    "plt.show()"
   ]
  },
  {
   "cell_type": "code",
   "execution_count": 4,
   "metadata": {},
   "outputs": [
    {
     "data": {
      "image/png": "[encoded data removed]",
      "text/plain": [
       "<Figure size 432x288 with 1 Axes>"
      ]
     },
     "metadata": {
      "needs_background": "light"
     },
     "output_type": "display_data"
    }
   ],
   "source": [
    "# Step 1 and 2 - Choose the number of clusters (k) and select random centroid for each cluster\n",
    "\n",
    "#number of clusters\n",
    "K=4\n",
    "\n",
    "# Select random observation as centroids\n",
    "Centroids = (X.sample(n=K))\n",
    "plt.scatter(X[\"longitude\"],X[\"latitude\"],c='black')\n",
    "plt.scatter(Centroids[\"longitude\"],Centroids[\"latitude\"],c='red')\n",
    "plt.show()"
   ]
  },
  {
   "cell_type": "code",
   "execution_count": 5,
   "metadata": {},
   "outputs": [
    {
     "name": "stderr",
     "output_type": "stream",
     "text": [
      "<ipython-input-5-68f659c27683>:18: SettingWithCopyWarning: \n",
      "A value is trying to be set on a copy of a slice from a DataFrame.\n",
      "Try using .loc[row_indexer,col_indexer] = value instead\n",
      "\n",
      "See the caveats in the documentation: https://pandas.pydata.org/pandas-docs/stable/user_guide/indexing.html#returning-a-view-versus-a-copy\n",
      "  X[i]=ED\n",
      "<ipython-input-5-68f659c27683>:30: SettingWithCopyWarning: \n",
      "A value is trying to be set on a copy of a slice from a DataFrame.\n",
      "Try using .loc[row_indexer,col_indexer] = value instead\n",
      "\n",
      "See the caveats in the documentation: https://pandas.pydata.org/pandas-docs/stable/user_guide/indexing.html#returning-a-view-versus-a-copy\n",
      "  X[\"Cluster\"]=C\n"
     ]
    },
    {
     "name": "stdout",
     "output_type": "stream",
     "text": [
      "-0.0005773516761706787\n",
      "-0.0011832779233258428\n",
      "-0.0006339738377563187\n",
      "-0.00046653285471887074\n",
      "-0.00011750242980745895\n",
      "-0.00020837200084455887\n",
      "-0.00022714051190497742\n",
      "0.0\n"
     ]
    }
   ],
   "source": [
    "# Step 3 - Assign all the points to the closest cluster centroid\n",
    "# Step 4 - Recompute centroids of newly formed clusters\n",
    "# Step 5 - Repeat step 3 and 4\n",
    "\n",
    "diff = 1\n",
    "j=0\n",
    "\n",
    "while(diff!=0):\n",
    "    XD=X\n",
    "    i=1\n",
    "    for index1,row_c in Centroids.iterrows():\n",
    "        ED=[]\n",
    "        for index2,row_d in XD.iterrows():\n",
    "            d1=(row_c[\"longitude\"]-row_d[\"longitude\"])**2\n",
    "            d2=(row_c[\"latitude\"]-row_d[\"latitude\"])**2\n",
    "            d=np.sqrt(d1+d2)\n",
    "            ED.append(d)\n",
    "        X[i]=ED\n",
    "        i=i+1\n",
    "\n",
    "    C=[]\n",
    "    for index,row in X.iterrows():\n",
    "        min_dist=row[1]\n",
    "        pos=1\n",
    "        for i in range(K):\n",
    "            if row[i+1] < min_dist:\n",
    "                min_dist = row[i+1]\n",
    "                pos=i+1\n",
    "        C.append(pos)\n",
    "    X[\"Cluster\"]=C\n",
    "    Centroids_new = X.groupby([\"Cluster\"]).mean()[[\"latitude\",\"longitude\"]]\n",
    "    if j == 0:\n",
    "        diff=1\n",
    "        j=j+1\n",
    "    else:\n",
    "        diff = (Centroids_new['latitude'] - Centroids['latitude']).sum() + (Centroids_new['longitude'] - Centroids['longitude']).sum()\n",
    "        print(diff.sum())\n",
    "    Centroids = X.groupby([\"Cluster\"]).mean()[[\"latitude\",\"longitude\"]]"
   ]
  },
  {
   "cell_type": "code",
   "execution_count": 6,
   "metadata": {},
   "outputs": [
    {
     "data": {
      "image/png": "[encoded data removed]",
      "text/plain": [
       "<Figure size 432x288 with 1 Axes>"
      ]
     },
     "metadata": {
      "needs_background": "light"
     },
     "output_type": "display_data"
    }
   ],
   "source": [
    "color=['blue','green','cyan','pink','yellow','purple']\n",
    "for k in range(K):\n",
    "    data=X[X[\"Cluster\"]==k+1]\n",
    "    plt.scatter(data[\"longitude\"],data[\"latitude\"],c=color[k])\n",
    "plt.scatter(Centroids[\"longitude\"],Centroids[\"latitude\"],c='red',marker='*',s=200)\n",
    "plt.show()"
   ]
  }
 ],
 "metadata": {
  "kernelspec": {
   "display_name": "Python 3",
   "language": "python",
   "name": "python3"
  },
  "language_info": {
   "codemirror_mode": {
    "name": "ipython",
    "version": 3
   },
   "file_extension": ".py",
   "mimetype": "text/x-python",
   "name": "python",
   "nbconvert_exporter": "python",
   "pygments_lexer": "ipython3",
   "version": "3.8.3"
  }
 },
 "nbformat": 4,
 "nbformat_minor": 4
}
