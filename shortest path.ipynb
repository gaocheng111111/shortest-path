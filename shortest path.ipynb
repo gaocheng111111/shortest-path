{
 "cells": [
  {
   "cell_type": "code",
   "execution_count": 1,
   "metadata": {},
   "outputs": [],
   "source": [
    "import networkx as nx\n",
    "import csv\n",
    "import matplotlib.pyplot as plt\n",
    "import numpy as np \n",
    "import sys\n",
    "import random"
   ]
  },
  {
   "cell_type": "code",
   "execution_count": 2,
   "metadata": {},
   "outputs": [],
   "source": [
    "class ladefensebuilding:\n",
    "    def __init__(self,name,function,height,delivery,zone,node,longitude,latitude):\n",
    "        self.building = building\n",
    "        self.function = function\n",
    "        self.height = height\n",
    "        self.delivery = delivery\n",
    "        self.zone = zone\n",
    "        self.node = node\n",
    "        self.longitude = longitude\n",
    "        self.latitude = latitude"
   ]
  },
  {
   "cell_type": "code",
   "execution_count": 3,
   "metadata": {},
   "outputs": [
    {
     "name": "stdout",
     "output_type": "stream",
     "text": [
      "102\n"
     ]
    }
   ],
   "source": [
    "with open(\"ladefensebuilding.csv\", encoding='mac_roman') as csvfile:\n",
    "    reader = csv.reader(csvfile)\n",
    "    rows = 0\n",
    "    for r in reader:\n",
    "        rows = rows + 1\n",
    "    print(rows)"
   ]
  },
  {
   "cell_type": "code",
   "execution_count": 4,
   "metadata": {},
   "outputs": [],
   "source": [
    "ladefensebuildings=[]\n",
    "with open(\"ladefensebuilding.csv\", encoding='mac_roman') as csvfile:\n",
    "    reader = csv.DictReader(csvfile)\n",
    "    for row in reader:\n",
    "        building = row['Building']\n",
    "        function = row['function']\n",
    "        height = int(row['height'])\n",
    "        delivery = int(row['Delivery'])\n",
    "        zone = row['zone']\n",
    "        node = row['node']\n",
    "        longitude = float(row['longitude'])\n",
    "        latitude = float(row['latitude'])\n",
    "        ladefensebuildings.append(ladefensebuilding(building,function,height,delivery,zone,node,longitude,latitude))"
   ]
  },
  {
   "cell_type": "code",
   "execution_count": 5,
   "metadata": {},
   "outputs": [],
   "source": [
    "ladefensebuildinggraph=nx.Graph()\n",
    "\n",
    "Pathgraph = nx.DiGraph()\n",
    "Stronggraph = nx.DiGraph()\n",
    "#ladefensebuildinggraph.pop = {}  # size"
   ]
  },
  {
   "cell_type": "code",
   "execution_count": 6,
   "metadata": {},
   "outputs": [
    {
     "name": "stdout",
     "output_type": "stream",
     "text": [
      "[]\n",
      "[]\n"
     ]
    }
   ],
   "source": [
    "for P in ladefensebuildings:\n",
    "    ladefensebuildinggraph.add_node(P, pos = (P.longitude, P.latitude))\n",
    "\n",
    "#path = nx.single_source_shortest_path(ladefensebuildinggraph,ladefensebuildings[0])\n",
    "\n",
    "T=nx.minimum_spanning_tree(ladefensebuildinggraph) # 边有权重\n",
    "print(sorted(T.edges(data=True)))\n",
    "\n",
    "mst=nx.minimum_spanning_edges(ladefensebuildinggraph,data=False) # a generator of MST edges\n",
    "edgelist=list(mst) # make a list of the edges\n",
    "print(sorted(edgelist))\n",
    "\n",
    "#nx.draw_networkx_edges(ladefensebuildinggraph,pos,nodelist=[ncenter],alpha=0.4)\n",
    "\n",
    "#Pathlist=list(nx.shortest_path(ladefensebuildinggraph,ladefensebuildings[0],ladefensebuildings[100]))\n",
    "\n",
    "#for P1 in path:      \n",
    "    #Pathgraph.add_edge(P1, P2)\n",
    "    #Pathgraph.add_node(P1, pos = (P1.longitude, P1.latitude))"
   ]
  },
  {
   "cell_type": "code",
   "execution_count": null,
   "metadata": {},
   "outputs": [],
   "source": []
  },
  {
   "cell_type": "code",
   "execution_count": 7,
   "metadata": {},
   "outputs": [],
   "source": [
    "position=nx.get_node_attributes(ladefensebuildinggraph,'pos')"
   ]
  },
  {
   "cell_type": "code",
   "execution_count": 8,
   "metadata": {},
   "outputs": [],
   "source": [
    "pos = nx.spring_layout(ladefensebuildinggraph)\n",
    "node_labels = {}\n",
    "node_labelheight = {}\n",
    "node_labeldelivery = {}\n",
    "node_labelzone = {}\n",
    "for node in ladefensebuildinggraph.nodes:\n",
    "    node_labelheight[node] = str(node.height)\n",
    "    node_labeldelivery[node] = str(node.delivery)\n",
    "    node_labelzone[node] = str(node.zone)\n",
    "    node_labels[node] = str(node.building)"
   ]
  },
  {
   "cell_type": "code",
   "execution_count": 9,
   "metadata": {
    "scrolled": false
   },
   "outputs": [
    {
     "data": {
      "text/plain": [
       "<matplotlib.collections.LineCollection at 0x23b3b9ee910>"
      ]
     },
     "execution_count": 9,
     "metadata": {},
     "output_type": "execute_result"
    },
    {
     "data": {
      "image/png": "[encoded data removed]",
      "text/plain": [
       "<Figure size 432x288 with 1 Axes>"
      ]
     },
     "metadata": {},
     "output_type": "display_data"
    }
   ],
   "source": [
    "options3 = {'node_color':'green', 'edge_color':'green', 'node_size':100,'width':1}\n",
    "optionofficezone={'node_color':'green','node_size':0, 'width':0.8, 'edge_color':'grey'}\n",
    "\n",
    "plt.show()\n",
    "#nx.draw(Stronggraph, **options2)\n",
    "#nx.draw(Pathgraph, **options3)\n",
    "\n",
    "nx.draw(ladefensebuildinggraph,position, **options3)\n",
    "#nx.draw_networkx_labels(ladefensebuildinggraph, position, labels=node_labels)\n",
    "\n",
    "nx.draw_networkx_edges(ladefensebuildinggraph,position, edgelist,width=1.0,alpha=0.4)\n"
   ]
  },
  {
   "cell_type": "code",
   "execution_count": null,
   "metadata": {},
   "outputs": [],
   "source": []
  },
  {
   "cell_type": "code",
   "execution_count": null,
   "metadata": {},
   "outputs": [],
   "source": []
  },
  {
   "cell_type": "code",
   "execution_count": null,
   "metadata": {},
   "outputs": [],
   "source": []
  },
  {
   "cell_type": "code",
   "execution_count": null,
   "metadata": {},
   "outputs": [],
   "source": []
  },
  {
   "cell_type": "code",
   "execution_count": null,
   "metadata": {},
   "outputs": [],
   "source": []
  },
  {
   "cell_type": "code",
   "execution_count": null,
   "metadata": {},
   "outputs": [],
   "source": []
  },
  {
   "cell_type": "code",
   "execution_count": null,
   "metadata": {},
   "outputs": [],
   "source": []
  }
 ],
 "metadata": {
  "kernelspec": {
   "display_name": "Python 3",
   "language": "python",
   "name": "python3"
  },
  "language_info": {
   "codemirror_mode": {
    "name": "ipython",
    "version": 3
   },
   "file_extension": ".py",
   "mimetype": "text/x-python",
   "name": "python",
   "nbconvert_exporter": "python",
   "pygments_lexer": "ipython3",
   "version": "3.8.3"
  }
 },
 "nbformat": 4,
 "nbformat_minor": 4
}
